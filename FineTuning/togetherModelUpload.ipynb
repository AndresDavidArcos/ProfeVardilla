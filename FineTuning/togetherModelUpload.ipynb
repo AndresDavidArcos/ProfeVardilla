{
 "cells": [
  {
   "cell_type": "code",
   "execution_count": 2,
   "id": "8ef7d141-ec79-4d2b-a185-2a21ec8c97c1",
   "metadata": {},
   "outputs": [],
   "source": [
    "import requests\n",
    "import json\n",
    "from together import Together"
   ]
  },
  {
   "cell_type": "code",
   "execution_count": null,
   "id": "13ba0c43-3a6a-483a-a1e6-c218e91e67ab",
   "metadata": {},
   "outputs": [],
   "source": [
    "together_token = \"***\"\n",
    "hf_token = \"***\""
   ]
  },
  {
   "cell_type": "code",
   "execution_count": null,
   "id": "ba55600a-19b4-40ac-b031-d1b3d9fa5d73",
   "metadata": {},
   "outputs": [
    {
     "name": "stdout",
     "output_type": "stream",
     "text": [
      "400\n",
      "{\"error\":{\"message\":\"Model name already exists\",\"type\":\"invalid_request\"}}\n"
     ]
    }
   ],
   "source": [
    "url = \"https://api.together.xyz/v0/models\"\n",
    "headers = {\n",
    "    \"Authorization\": f\"Bearer {together_token}\",\n",
    "    \"Content-Type\": \"application/json\"\n",
    "}\n",
    "data = {\n",
    "    \"model_name\": \"AndresCamargo/Qwen2.5-14B-Instruct-DesarrolloSoftware1-Adapter\",\n",
    "    \"model_source\": \"https://huggingface.co/AndresCamargo/Qwen2.5-14B-Instruct-DesarrolloSoftware1-Adapter\",\n",
    "    \"model_type\": \"adapter\",\n",
    "    \"description\": \"Modelo Qwen2.5-14B-Instruct finetuned con corpus q-a generado sintéticamente a partir de los PDFs del curso de Desarrollo de Software 1.\",\n",
    "    \"hf_token\": hf_token\n",
    "}\n",
    "\n",
    "response = requests.post(url, headers=headers, json=data)\n",
    "\n",
    "print(response.status_code)\n",
    "print(response.text)"
   ]
  },
  {
   "cell_type": "code",
   "execution_count": 8,
   "id": "afea360d-93ea-41aa-8dd3-df559386dc30",
   "metadata": {
    "collapsed": true,
    "jupyter": {
     "outputs_hidden": true
    }
   },
   "outputs": [
    {
     "name": "stdout",
     "output_type": "stream",
     "text": [
      "{\n",
      "  \"type\": \"adapter_upload\",\n",
      "  \"job_id\": \"job-a628c979-cea8-40c9-9f46-139d7a9609b4\",\n",
      "  \"status\": \"Bad\",\n",
      "  \"status_updates\": [\n",
      "    {\n",
      "      \"status\": \"Queued\",\n",
      "      \"message\": \"Job has been created\",\n",
      "      \"timestamp\": \"2025-04-25T16:38:30Z\"\n",
      "    },\n",
      "    {\n",
      "      \"status\": \"Running\",\n",
      "      \"message\": \"Received job from queue, starting\",\n",
      "      \"timestamp\": \"2025-04-25T16:38:52Z\"\n",
      "    },\n",
      "    {\n",
      "      \"status\": \"Running\",\n",
      "      \"message\": \"Adapter download in progress\",\n",
      "      \"timestamp\": \"2025-04-25T16:38:52Z\"\n",
      "    },\n",
      "    {\n",
      "      \"status\": \"Running\",\n",
      "      \"message\": \"Adapter bf16 conversion in progress\",\n",
      "      \"timestamp\": \"2025-04-25T16:38:55Z\"\n",
      "    },\n",
      "    {\n",
      "      \"status\": \"Running\",\n",
      "      \"message\": \"Adapter validation in progress\",\n",
      "      \"timestamp\": \"2025-04-25T16:38:55Z\"\n",
      "    },\n",
      "    {\n",
      "      \"status\": \"Bad\",\n",
      "      \"message\": \"No models found for base model meta-llama/Llama-3.1-8B-Instruct\",\n",
      "      \"timestamp\": \"2025-04-25T16:38:56Z\"\n",
      "    }\n",
      "  ],\n",
      "  \"args\": {\n",
      "    \"description\": \"Modelo Llama-3.1-8B-Instruct finetuned con corpus q-a generado sint\\u00e9ticamente a partir de los PDFs del curso de Desarrollo de Software 1.\",\n",
      "    \"modelName\": \"AndresCamargo/Llama-3.1-8B-Instruct-DesarrolloSoftware1\",\n",
      "    \"modelSource\": \"AndresCamargo/Llama-3.1-8B-Instruct-DesarrolloSoftware1-Adapter\"\n",
      "  },\n",
      "  \"created_at\": \"2025-04-25T16:38:30Z\",\n",
      "  \"updated_at\": \"2025-04-25T16:38:56Z\"\n",
      "}\n"
     ]
    }
   ],
   "source": [
    "headers = {\n",
    "    \"Authorization\": f\"Bearer {together_token}\"\n",
    "}\n",
    "response = requests.get(\"https://api.together.xyz/v1/jobs/job-a628c979-cea8-40c9-9f46-139d7a9609b4\", headers=headers)\n",
    "print(json.dumps(response.json(), indent=2))"
   ]
  },
  {
   "cell_type": "code",
   "execution_count": 4,
   "id": "5857405b-c512-4a7a-ad7e-480178a5f511",
   "metadata": {},
   "outputs": [],
   "source": [
    "def format_alpaca_prompt(instruction):\n",
    "    return f\"\"\"A continuación se presenta una instrucción que describe una tarea. Escribe una respuesta que complete adecuadamente la solicitud.\n",
    "\n",
    "### Instrucción:\n",
    "{instruction}\n",
    "\n",
    "### Respuesta:\n",
    "\"\"\"+ \"<|im_end|>\""
   ]
  },
  {
   "cell_type": "code",
   "execution_count": 5,
   "id": "577ae432-bd46-4748-9a71-6c94ed01bc1f",
   "metadata": {},
   "outputs": [
    {
     "name": "stdout",
     "output_type": "stream",
     "text": [
      "200\n",
      "{'id': 'nreYTiE-4yUbBN-9366bf153f6a3dd9', 'object': 'text.completion', 'created': 1745677494, 'model': 'AndresCamargo/Qwen2.5-14B-Instruct-DesarrolloSoftware1-Adapter', 'prompt': [], 'choices': [{'text': '\\nAlgunos ejemplos de metodologías de desarrollo de software ágiles son Scrum, XP, Kanban y otros.', 'finish_reason': 'stop', 'seed': 1067988159531547400, 'logprobs': None, 'index': 0}], 'usage': {'prompt_tokens': 56, 'completion_tokens': 30, 'total_tokens': 86, 'cache_hit_rate': 0}}\n"
     ]
    }
   ],
   "source": [
    "MODEL_NAME_FOR_INFERENCE=\"AndresCamargo/Qwen2.5-14B-Instruct-DesarrolloSoftware1-Adapter\"\n",
    "user_question = \"¿Cuáles son algunos ejemplos de metodologías de desarrollo de software ágiles?\"\n",
    "prompt = format_alpaca_prompt(user_question)\n",
    "\n",
    "\n",
    "headers = {\n",
    "    \"Authorization\": f\"Bearer {together_token}\",\n",
    "    \"Content-Type\": \"application/json\"\n",
    "}\n",
    "\n",
    "payload = {\n",
    "    \"model\": MODEL_NAME_FOR_INFERENCE,\n",
    "    \"prompt\": prompt,\n",
    "    \"temperature\": 0.8,\n",
    "    \"max_tokens\": 128\n",
    "}\n",
    "\n",
    "response = requests.post(\"https://api.together.xyz/v1/completions\", headers=headers, json=payload)\n",
    "\n",
    "print(response.status_code)\n",
    "print(response.json())"
   ]
  },
  {
   "cell_type": "code",
   "execution_count": 8,
   "id": "960694c0-9829-4578-9eae-0e41a54c40ee",
   "metadata": {},
   "outputs": [
    {
     "name": "stdout",
     "output_type": "stream",
     "text": [
      "Algunos ejemplos de metodologías de desarrollo de software ágiles son Scrum, XP y Kanban.\n"
     ]
    }
   ],
   "source": [
    "client = Together(api_key=together_token)\n",
    "user_question = \"¿Cuáles son algunos ejemplos de metodologías de desarrollo de software ágiles?\"\n",
    "prompt = format_alpaca_prompt(user_question)\n",
    "\n",
    "response = client.chat.completions.create(\n",
    "    model=\"AndresCamargo/Qwen2.5-14B-Instruct-DesarrolloSoftware1-Adapter\",\n",
    "    messages=[{\"role\": \"user\", \"content\": prompt}]\n",
    ")\n",
    "print(response.choices[0].message.content)"
   ]
  },
  {
   "cell_type": "code",
   "execution_count": 11,
   "id": "e532ffeb-e2d8-4585-afc8-1670a8a49d74",
   "metadata": {},
   "outputs": [],
   "source": [
    "response = client.completions.create(\n",
    "    model=\"AndresCamargo/Qwen2.5-14B-Instruct-DesarrolloSoftware1-Adapter\",\n",
    "    prompt=prompt,\n",
    ")\n"
   ]
  },
  {
   "cell_type": "code",
   "execution_count": 10,
   "id": "8e62384c-c0ae-4db7-8905-d2d343c59080",
   "metadata": {},
   "outputs": [
    {
     "name": "stdout",
     "output_type": "stream",
     "text": [
      "\n",
      "Algunos ejemplos de metodologías de desarrollo de software ágiles son Scrum, XP y Kanban.\n"
     ]
    }
   ],
   "source": [
    "print(response.choices[0].text)"
   ]
  }
 ],
 "metadata": {
  "kernelspec": {
   "display_name": "Python (profevardilla)",
   "language": "python",
   "name": "profevardilla"
  },
  "language_info": {
   "codemirror_mode": {
    "name": "ipython",
    "version": 3
   },
   "file_extension": ".py",
   "mimetype": "text/x-python",
   "name": "python",
   "nbconvert_exporter": "python",
   "pygments_lexer": "ipython3",
   "version": "3.11.9"
  }
 },
 "nbformat": 4,
 "nbformat_minor": 5
}
